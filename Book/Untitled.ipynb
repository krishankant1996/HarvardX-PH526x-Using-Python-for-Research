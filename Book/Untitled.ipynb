{
 "cells": [
  {
   "cell_type": "code",
   "execution_count": 1,
   "metadata": {},
   "outputs": [
    {
     "data": {
      "text/plain": [
       "{'this': 2,\n",
       " 'is': 1,\n",
       " 'my': 1,\n",
       " 'test': 1,\n",
       " 'text': 2,\n",
       " 'were': 1,\n",
       " 'keeping': 1,\n",
       " 'short': 1,\n",
       " 'to': 1,\n",
       " 'keep': 1,\n",
       " 'things': 1,\n",
       " 'manageable': 1}"
      ]
     },
     "execution_count": 1,
     "metadata": {},
     "output_type": "execute_result"
    }
   ],
   "source": [
    "text = \"This is my test text. We're keeping this text short to keep things manageable.\"\n",
    "\n",
    "def count_words(text):\n",
    "    \"\"\"\n",
    "    Count the number of times each word occurs in text (str). Return dictionary where keys\n",
    "    are unique words and values are word counts.\n",
    "    \"\"\"\n",
    "    text = text.lower()\n",
    "    skips = [\".\",\",\",\":\",\";\",\"'\",'\"']\n",
    "    for ch in skips :\n",
    "        text = text.replace(ch, \"\")\n",
    "    \n",
    "    word_counts = {}\n",
    "    for word in text.split(\" \"):\n",
    "        #known words \n",
    "        if word in word_counts:\n",
    "            word_counts[word] += 1\n",
    "        else:\n",
    "            word_counts[word] = 1\n",
    "            \n",
    "    return word_counts\n",
    "\n",
    "\n",
    "count_words(text)"
   ]
  },
  {
   "cell_type": "code",
   "execution_count": 2,
   "metadata": {},
   "outputs": [
    {
     "data": {
      "text/plain": [
       "Counter({'this': 2,\n",
       "         'is': 1,\n",
       "         'my': 1,\n",
       "         'test': 1,\n",
       "         'text': 2,\n",
       "         'were': 1,\n",
       "         'keeping': 1,\n",
       "         'short': 1,\n",
       "         'to': 1,\n",
       "         'keep': 1,\n",
       "         'things': 1,\n",
       "         'manageable': 1})"
      ]
     },
     "execution_count": 2,
     "metadata": {},
     "output_type": "execute_result"
    }
   ],
   "source": [
    "from collections import Counter \n",
    "\n",
    "def count_words_fast(text):\n",
    "    \n",
    "    \"\"\"\n",
    "    Count the number of times each word occurs in text (str). Return dictionary where keys\n",
    "    are unique words and values are word counts.\n",
    "    \"\"\"\n",
    "    \n",
    "    text = text.lower()\n",
    "    skips = [\".\",\",\",\":\",\";\",\"'\",'\"']\n",
    "    for ch in skips :\n",
    "        text = text.replace(ch, \"\")\n",
    "    \n",
    "    word_counts =Counter(text.split(\" \"))\n",
    "   \n",
    "            \n",
    "    return word_counts\n",
    "\n",
    "count_words_fast(text)"
   ]
  },
  {
   "cell_type": "code",
   "execution_count": 3,
   "metadata": {},
   "outputs": [
    {
     "data": {
      "text/plain": [
       "True"
      ]
     },
     "execution_count": 3,
     "metadata": {},
     "output_type": "execute_result"
    }
   ],
   "source": [
    "count_words_fast(text) == count_words(text)"
   ]
  },
  {
   "cell_type": "code",
   "execution_count": 4,
   "metadata": {},
   "outputs": [],
   "source": [
    "def read_book (title_path):\n",
    "    \"\"\" Read a book and return it as a string\n",
    "    \"\"\"\n",
    "    \n",
    "    with open (title_path, \"r\", encoding = \"utf8\") as current_file:\n",
    "        text = current_file.read()\n",
    "        text = text.replace(\"\\n\",\"\").replace(\"\\r\",\"\")\n",
    "    return text\n",
    "        "
   ]
  },
  {
   "cell_type": "code",
   "execution_count": 5,
   "metadata": {},
   "outputs": [
    {
     "data": {
      "text/plain": [
       "'C:\\\\Users\\\\skris\\\\JupyterLAB\\\\Book'"
      ]
     },
     "execution_count": 5,
     "metadata": {},
     "output_type": "execute_result"
    }
   ],
   "source": [
    "pwd"
   ]
  },
  {
   "cell_type": "code",
   "execution_count": 6,
   "metadata": {},
   "outputs": [
    {
     "data": {
      "text/plain": [
       "169275"
      ]
     },
     "execution_count": 6,
     "metadata": {},
     "output_type": "execute_result"
    }
   ],
   "source": [
    "text = read_book(\"English/shakespeare/Romeo and Juliet.txt\")\n",
    "len(text)"
   ]
  },
  {
   "cell_type": "code",
   "execution_count": 7,
   "metadata": {},
   "outputs": [
    {
     "data": {
      "text/plain": [
       "42757"
      ]
     },
     "execution_count": 7,
     "metadata": {},
     "output_type": "execute_result"
    }
   ],
   "source": [
    "ind=text.find(\"What's in a name?\")\n",
    "ind"
   ]
  },
  {
   "cell_type": "code",
   "execution_count": 8,
   "metadata": {},
   "outputs": [
    {
     "data": {
      "text/plain": [
       "\"What's in a name? That which we call a rose    By any other name would smell as sweet.    So Romeo would, were he not Romeo call'd,    Retain that dear perfection which he owes    Without that title. Romeo, doff thy name;    And for that name, which is no part of thee,    Take all myself.  Rom. I take thee at thy word.    Call me but love, and I'll be new baptiz'd;    Henceforth I never will be Romeo.  Jul. What man art thou that, thus bescreen'd in night,    So stumblest on my counsel?  Rom. By a name    I know not how to tell thee who I am.    My name, dear saint, is hateful to myself,    Because it is an enemy to thee.    Had I it written, I would tear the word.  Jul. My ears have yet not drunk a hundred words    Of that tongue's utterance, yet I know the sound.    Art thou not Romeo, and a Montague?  Rom. Neither, fair saint, if either thee dislike.  Jul. How cam'st thou hither, tell me, and wherefore?    The orchard walls are high and hard to climb,    And the place death, conside\""
      ]
     },
     "execution_count": 8,
     "metadata": {},
     "output_type": "execute_result"
    }
   ],
   "source": [
    "sample_text = text [ind : ind + 1000]\n",
    "sample_text"
   ]
  },
  {
   "cell_type": "code",
   "execution_count": 61,
   "metadata": {},
   "outputs": [
    {
     "name": "stdout",
     "output_type": "stream",
     "text": [
      "9700\n",
      "30567\n"
     ]
    }
   ],
   "source": [
    "def word_stats(word_counts):\n",
    "    \"\"\"\n",
    "    return unique words with count\n",
    "    \"\"\"\n",
    "    num_unique = len(word_counts)\n",
    "    counts= word_counts.values()\n",
    "    return (num_unique, counts)\n",
    "\n",
    "word_counts = count_words(text)\n",
    "(num_unique, counts) = word_stats(word_counts) \n",
    "print(num_unique)\n",
    "print(sum( counts))"
   ]
  },
  {
   "cell_type": "code",
   "execution_count": 87,
   "metadata": {},
   "outputs": [
    {
     "name": "stdout",
     "output_type": "stream",
     "text": [
      "./books/English/shakespeare/A Midsummer Night's Dream.txt\n",
      "./books/English/shakespeare/Hamlet.txt\n",
      "./books/English/shakespeare/Macbeth.txt\n",
      "./books/English/shakespeare/Othello.txt\n",
      "./books/English/shakespeare/Richard III.txt\n",
      "./books/English/shakespeare/Romeo and Juliet.txt\n",
      "./books/English/shakespeare/The Merchant of Venice.txt\n",
      "./books/French/chevalier/L'enfer et le paradis de l'autre monde.txt\n",
      "./books/French/chevalier/L'åle de sable.txt\n",
      "./books/French/chevalier/La capitaine.txt\n",
      "./books/French/chevalier/La fille des indiens rouges.txt\n",
      "./books/French/chevalier/La fille du pirate.txt\n",
      "./books/French/chevalier/Le chasseur noir.txt\n",
      "./books/French/chevalier/Les derniers Iroquois.txt\n",
      "./books/French/de Maupassant/Boule de Suif.txt\n",
      "./books/French/de Maupassant/Claire de Lune.txt\n",
      "./books/French/de Maupassant/Contes de la Becasse.txt\n",
      "./books/French/de Maupassant/L'inutile beautÇ.txt\n",
      "./books/French/de Maupassant/La Main Gauche.txt\n",
      "./books/French/de Maupassant/La Maison Tellier.txt\n",
      "./books/French/de Maupassant/La petite roque.txt\n",
      "./books/French/de Maupassant/Le Horla.txt\n",
      "./books/French/de Maupassant/Œuvres complètes de Guy de Maupassant.txt\n",
      "./books/French/diderot/Ceci n'est pas un conte.txt\n",
      "./books/French/diderot/Entretien d'un päre avec ses enfants.txt\n",
      "./books/French/diderot/L'oiseau blanc.txt\n",
      "./books/French/diderot/Les deux amis de Bourbonne.txt\n",
      "./books/French/diderot/Regrets sur ma vieille robe de chambre.txt\n",
      "./books/French/sand/cora.txt\n",
      "./books/French/sand/Jacques le fataliste et son maåtre.txt\n",
      "./books/French/sand/L' Orco.txt\n",
      "./books/French/sand/La Coupe; Lupo Liverani; Le Toast; Garnier; Le Contrebandier; La Ràverie Ö Paris.txt\n",
      "./books/French/sand/La Marquise.txt\n",
      "./books/French/sand/Le Piccinino.txt\n",
      "./books/French/sand/Le poâme de Myrza.txt\n",
      "./books/French/sand/Mattea.txt\n",
      "./books/French/sand/Metella.txt\n",
      "./books/French/sand/Oeuvres illustrÇes de George Sand.txt\n",
      "./books/French/sand/Pauline.txt\n",
      "./books/German/lessing/der freigeist.txt\n",
      "./books/German/lessing/der junge gelehrte.txt\n",
      "./books/German/lessing/die juden.txt\n",
      "./books/German/lessing/emilia galotti.txt\n",
      "./books/German/lessing/hamburgische dramaturgie.txt\n",
      "./books/German/lessing/minna von barnhelm.txt\n",
      "./books/German/lessing/miss sara sampson.txt\n",
      "./books/German/lessing/philotas.txt\n",
      "./books/German/raimund/Das MÑdchen aus der Feenwelt.txt\n",
      "./books/German/raimund/Der Alpenkînig und der Menschenfeind.txt\n",
      "./books/German/raimund/Der Barometermacher auf der Zauberinsel.txt\n",
      "./books/German/raimund/Der Diamant des Geisterkînigs.txt\n",
      "./books/German/raimund/Der Verschwender.txt\n",
      "./books/German/raimund/Die gefesselte Phantasie.txt\n",
      "./books/German/raimund/Die unheilbringende Krone.txt\n",
      "./books/German/raimund/Moisasurs Zauberfluch.txt\n",
      "./books/German/schiller/Der Neffe als Onkel.txt\n",
      "./books/German/schiller/Der Parasit, oder die Kunst, sein GlÅck zu machen.txt\n",
      "./books/German/schiller/die braut von messina.txt\n",
      "./books/German/schiller/Die Huldigung der KÅnste.txt\n",
      "./books/German/schiller/Die Jungfrau von Orleans.txt\n",
      "./books/German/schiller/Die Piccolomini.txt\n",
      "./books/German/schiller/Die Verschwîrung des Fiesco zu Genua.txt\n",
      "./books/German/schiller/Kabale und Liebe.txt\n",
      "./books/German/schiller/Turandot, Prinzessin von China.txt\n",
      "./books/German/schiller/Wallensteins Lager.txt\n",
      "./books/German/schiller/Wallensteins Tod.txt\n",
      "./books/German/shakespeare/Der Kaufmann von Venedig.txt\n",
      "./books/German/shakespeare/Ein Sommernachtstraum.txt\n",
      "./books/German/shakespeare/Hamlet.txt\n",
      "./books/German/shakespeare/Macbeth.txt\n",
      "./books/German/shakespeare/Othello.txt\n",
      "./books/German/shakespeare/Richard III.txt\n",
      "./books/German/shakespeare/Romeo und Julia.txt\n",
      "./books/Portuguese/branco/A Filha do Arcediago.txt\n",
      "./books/Portuguese/branco/A Neta do Arcediago.txt\n",
      "./books/Portuguese/branco/A Queda d'um Anjo.txt\n",
      "./books/Portuguese/branco/Agulha em Palheiro.txt\n",
      "./books/Portuguese/branco/Amor de Perdição.txt\n",
      "./books/Portuguese/branco/Amor de Salvação.txt\n",
      "./books/Portuguese/branco/Annos de Prosa.txt\n",
      "./books/Portuguese/branco/Carlota Angela.txt\n",
      "./books/Portuguese/branco/Estrellas Funestas.txt\n",
      "./books/Portuguese/branco/Estrellas Prop°cias.txt\n",
      "./books/Portuguese/branco/Lagrimas Abenáoadas.txt\n",
      "./books/Portuguese/branco/Livro de Consolação.txt\n",
      "./books/Portuguese/branco/O Olho de Vidro.txt\n",
      "./books/Portuguese/branco/O que fazem mulheres.txt\n",
      "./books/Portuguese/branco/O Regicida.txt\n",
      "./books/Portuguese/branco/Scenas Contemporaneas.txt\n",
      "./books/Portuguese/dinis/A Morgadinha dos Cannaviaes.txt\n",
      "./books/Portuguese/dinis/Os fidalgos da Casa Mourisca.txt\n",
      "./books/Portuguese/dinis/Uma fam°lia ingleza.txt\n",
      "./books/Portuguese/Queir¢s/A Cidade e as Serras.txt\n",
      "./books/Portuguese/Queir¢s/A correspondància de Fradique Mendes.txt\n",
      "./books/Portuguese/Queir¢s/A Illustre Casa de Ramires.txt\n",
      "./books/Portuguese/Queir¢s/A Rel°quia.txt\n",
      "./books/Portuguese/Queir¢s/Cartas de Inglaterra.txt\n",
      "./books/Portuguese/Queir¢s/O crime do padre Amaro.txt\n",
      "./books/Portuguese/Queir¢s/O Mandarim.txt\n",
      "./books/Portuguese/Queir¢s/O Primo Bazilio.txt\n",
      "./books/Portuguese/Queir¢s/Os Maias.txt\n",
      "./books/Portuguese/shakespeare/Hamlet.txt\n"
     ]
    }
   ],
   "source": [
    "import os\n",
    "book_dir = \"./books\"\n",
    "\n",
    "import pandas as pd\n",
    "stats = pd.DataFrame(columns =(\"language\", \"author\", \"title\", \"total\", \"unique\"))\n",
    "title_num = 1\n",
    "\n",
    "for language in os.listdir(book_dir):\n",
    "    \n",
    "    for author in os.listdir(book_dir + \"/\" + language):\n",
    "        \n",
    "        for title in os.listdir(book_dir + \"/\" + language + \"/\" + author):\n",
    "            \n",
    "            inputfile = book_dir + \"/\" + language + \"/\" + author + \"/\" + title\n",
    "            print (inputfile)\n",
    "            text = read_book(inputfile)\n",
    "            (num_unique, counts) = word_stats(count_words(text)) \n",
    "            stats.loc[title_num] = language, author.capitalize(), title.replace(\".txt\",\"\"), sum(counts), num_unique \n",
    "            title_num += 1\n",
    "            "
   ]
  },
  {
   "cell_type": "code",
   "execution_count": 89,
   "metadata": {
    "scrolled": true
   },
   "outputs": [
    {
     "data": {
      "text/html": [
       "<div>\n",
       "<style scoped>\n",
       "    .dataframe tbody tr th:only-of-type {\n",
       "        vertical-align: middle;\n",
       "    }\n",
       "\n",
       "    .dataframe tbody tr th {\n",
       "        vertical-align: top;\n",
       "    }\n",
       "\n",
       "    .dataframe thead th {\n",
       "        text-align: right;\n",
       "    }\n",
       "</style>\n",
       "<table border=\"1\" class=\"dataframe\">\n",
       "  <thead>\n",
       "    <tr style=\"text-align: right;\">\n",
       "      <th></th>\n",
       "      <th>language</th>\n",
       "      <th>author</th>\n",
       "      <th>title</th>\n",
       "      <th>total</th>\n",
       "      <th>unique</th>\n",
       "    </tr>\n",
       "  </thead>\n",
       "  <tbody>\n",
       "    <tr>\n",
       "      <th>1</th>\n",
       "      <td>English</td>\n",
       "      <td>Shakespeare</td>\n",
       "      <td>A Midsummer Night's Dream</td>\n",
       "      <td>16103</td>\n",
       "      <td>4345</td>\n",
       "    </tr>\n",
       "    <tr>\n",
       "      <th>2</th>\n",
       "      <td>English</td>\n",
       "      <td>Shakespeare</td>\n",
       "      <td>Hamlet</td>\n",
       "      <td>28551</td>\n",
       "      <td>6776</td>\n",
       "    </tr>\n",
       "    <tr>\n",
       "      <th>3</th>\n",
       "      <td>English</td>\n",
       "      <td>Shakespeare</td>\n",
       "      <td>Macbeth</td>\n",
       "      <td>16874</td>\n",
       "      <td>4780</td>\n",
       "    </tr>\n",
       "    <tr>\n",
       "      <th>4</th>\n",
       "      <td>English</td>\n",
       "      <td>Shakespeare</td>\n",
       "      <td>Othello</td>\n",
       "      <td>26590</td>\n",
       "      <td>5898</td>\n",
       "    </tr>\n",
       "    <tr>\n",
       "      <th>5</th>\n",
       "      <td>English</td>\n",
       "      <td>Shakespeare</td>\n",
       "      <td>Richard III</td>\n",
       "      <td>48315</td>\n",
       "      <td>5449</td>\n",
       "    </tr>\n",
       "    <tr>\n",
       "      <th>...</th>\n",
       "      <td>...</td>\n",
       "      <td>...</td>\n",
       "      <td>...</td>\n",
       "      <td>...</td>\n",
       "      <td>...</td>\n",
       "    </tr>\n",
       "    <tr>\n",
       "      <th>98</th>\n",
       "      <td>Portuguese</td>\n",
       "      <td>Queir¢s</td>\n",
       "      <td>O crime do padre Amaro</td>\n",
       "      <td>128630</td>\n",
       "      <td>29300</td>\n",
       "    </tr>\n",
       "    <tr>\n",
       "      <th>99</th>\n",
       "      <td>Portuguese</td>\n",
       "      <td>Queir¢s</td>\n",
       "      <td>O Mandarim</td>\n",
       "      <td>21440</td>\n",
       "      <td>7836</td>\n",
       "    </tr>\n",
       "    <tr>\n",
       "      <th>100</th>\n",
       "      <td>Portuguese</td>\n",
       "      <td>Queir¢s</td>\n",
       "      <td>O Primo Bazilio</td>\n",
       "      <td>107303</td>\n",
       "      <td>27644</td>\n",
       "    </tr>\n",
       "    <tr>\n",
       "      <th>101</th>\n",
       "      <td>Portuguese</td>\n",
       "      <td>Queir¢s</td>\n",
       "      <td>Os Maias</td>\n",
       "      <td>195771</td>\n",
       "      <td>40665</td>\n",
       "    </tr>\n",
       "    <tr>\n",
       "      <th>102</th>\n",
       "      <td>Portuguese</td>\n",
       "      <td>Shakespeare</td>\n",
       "      <td>Hamlet</td>\n",
       "      <td>30567</td>\n",
       "      <td>9700</td>\n",
       "    </tr>\n",
       "  </tbody>\n",
       "</table>\n",
       "<p>102 rows × 5 columns</p>\n",
       "</div>"
      ],
      "text/plain": [
       "       language       author                      title   total unique\n",
       "1       English  Shakespeare  A Midsummer Night's Dream   16103   4345\n",
       "2       English  Shakespeare                     Hamlet   28551   6776\n",
       "3       English  Shakespeare                    Macbeth   16874   4780\n",
       "4       English  Shakespeare                    Othello   26590   5898\n",
       "5       English  Shakespeare                Richard III   48315   5449\n",
       "..          ...          ...                        ...     ...    ...\n",
       "98   Portuguese      Queir¢s     O crime do padre Amaro  128630  29300\n",
       "99   Portuguese      Queir¢s                 O Mandarim   21440   7836\n",
       "100  Portuguese      Queir¢s            O Primo Bazilio  107303  27644\n",
       "101  Portuguese      Queir¢s                   Os Maias  195771  40665\n",
       "102  Portuguese  Shakespeare                     Hamlet   30567   9700\n",
       "\n",
       "[102 rows x 5 columns]"
      ]
     },
     "execution_count": 89,
     "metadata": {},
     "output_type": "execute_result"
    }
   ],
   "source": [
    "stats"
   ]
  },
  {
   "cell_type": "code",
   "execution_count": 88,
   "metadata": {},
   "outputs": [
    {
     "data": {
      "text/html": [
       "<div>\n",
       "<style scoped>\n",
       "    .dataframe tbody tr th:only-of-type {\n",
       "        vertical-align: middle;\n",
       "    }\n",
       "\n",
       "    .dataframe tbody tr th {\n",
       "        vertical-align: top;\n",
       "    }\n",
       "\n",
       "    .dataframe thead th {\n",
       "        text-align: right;\n",
       "    }\n",
       "</style>\n",
       "<table border=\"1\" class=\"dataframe\">\n",
       "  <thead>\n",
       "    <tr style=\"text-align: right;\">\n",
       "      <th></th>\n",
       "      <th>language</th>\n",
       "      <th>author</th>\n",
       "      <th>title</th>\n",
       "      <th>total</th>\n",
       "      <th>unique</th>\n",
       "    </tr>\n",
       "  </thead>\n",
       "  <tbody>\n",
       "    <tr>\n",
       "      <th>1</th>\n",
       "      <td>English</td>\n",
       "      <td>Shakespeare</td>\n",
       "      <td>A Midsummer Night's Dream</td>\n",
       "      <td>16103</td>\n",
       "      <td>4345</td>\n",
       "    </tr>\n",
       "    <tr>\n",
       "      <th>2</th>\n",
       "      <td>English</td>\n",
       "      <td>Shakespeare</td>\n",
       "      <td>Hamlet</td>\n",
       "      <td>28551</td>\n",
       "      <td>6776</td>\n",
       "    </tr>\n",
       "    <tr>\n",
       "      <th>3</th>\n",
       "      <td>English</td>\n",
       "      <td>Shakespeare</td>\n",
       "      <td>Macbeth</td>\n",
       "      <td>16874</td>\n",
       "      <td>4780</td>\n",
       "    </tr>\n",
       "    <tr>\n",
       "      <th>4</th>\n",
       "      <td>English</td>\n",
       "      <td>Shakespeare</td>\n",
       "      <td>Othello</td>\n",
       "      <td>26590</td>\n",
       "      <td>5898</td>\n",
       "    </tr>\n",
       "    <tr>\n",
       "      <th>5</th>\n",
       "      <td>English</td>\n",
       "      <td>Shakespeare</td>\n",
       "      <td>Richard III</td>\n",
       "      <td>48315</td>\n",
       "      <td>5449</td>\n",
       "    </tr>\n",
       "  </tbody>\n",
       "</table>\n",
       "</div>"
      ],
      "text/plain": [
       "  language       author                      title  total unique\n",
       "1  English  Shakespeare  A Midsummer Night's Dream  16103   4345\n",
       "2  English  Shakespeare                     Hamlet  28551   6776\n",
       "3  English  Shakespeare                    Macbeth  16874   4780\n",
       "4  English  Shakespeare                    Othello  26590   5898\n",
       "5  English  Shakespeare                Richard III  48315   5449"
      ]
     },
     "execution_count": 88,
     "metadata": {},
     "output_type": "execute_result"
    }
   ],
   "source": [
    "stats.head()"
   ]
  },
  {
   "cell_type": "code",
   "execution_count": 90,
   "metadata": {},
   "outputs": [
    {
     "data": {
      "text/plain": [
       "[<matplotlib.lines.Line2D at 0x17e641f1fc8>]"
      ]
     },
     "execution_count": 90,
     "metadata": {},
     "output_type": "execute_result"
    },
    {
     "data": {
      "image/png": "[encoded data removed]",
      "text/plain": [
       "<Figure size 432x288 with 1 Axes>"
      ]
     },
     "metadata": {
      "needs_background": "light"
     },
     "output_type": "display_data"
    }
   ],
   "source": [
    "import matplotlib.pyplot as plt\n",
    "plt.plot(stats.total,stats.unique,\"bo\")"
   ]
  },
  {
   "cell_type": "code",
   "execution_count": 91,
   "metadata": {},
   "outputs": [
    {
     "data": {
      "text/plain": [
       "[<matplotlib.lines.Line2D at 0x17e64fa3848>]"
      ]
     },
     "execution_count": 91,
     "metadata": {},
     "output_type": "execute_result"
    },
    {
     "data": {
      "image/png": "[encoded data removed]",
      "text/plain": [
       "<Figure size 432x288 with 1 Axes>"
      ]
     },
     "metadata": {
      "needs_background": "light"
     },
     "output_type": "display_data"
    }
   ],
   "source": [
    "plt.loglog(stats.total,stats.unique,\"bo\")"
   ]
  },
  {
   "cell_type": "code",
   "execution_count": 96,
   "metadata": {},
   "outputs": [
    {
     "data": {
      "image/png": "[encoded data removed]",
      "text/plain": [
       "<Figure size 720x720 with 1 Axes>"
      ]
     },
     "metadata": {
      "needs_background": "light"
     },
     "output_type": "display_data"
    }
   ],
   "source": [
    "plt.figure(figsize =(10,10))\n",
    "subset = stats[stats.language == \"English\"]\n",
    "plt.loglog(subset.total, subset.unique,\"o\", label= \"English\", color= \"crimson\")\n",
    "\n",
    "subset = stats[stats.language == \"German\"]\n",
    "plt.loglog(subset.total, subset.unique,\"o\", label= \"German\", color= \"forestgreen\")\n",
    "\n",
    "subset = stats[stats.language == \"French\"]\n",
    "plt.loglog(subset.total, subset.unique,\"o\", label= \"Frecnh\", color= \"orange\")\n",
    "\n",
    "subset = stats[stats.language == \"Portuguese\"]\n",
    "plt.loglog(subset.total, subset.unique,\"o\", label= \"Portugi\", color =\"blue\")\n",
    "\n",
    "plt.legend()\n",
    "plt.xlabel(\"Book length\")\n",
    "plt.ylabel(\"Number of Unique words\")\n",
    "plt.savefig(\"lang_plot.pdf\")"
   ]
  },
  {
   "cell_type": "code",
   "execution_count": null,
   "metadata": {},
   "outputs": [],
   "source": []
  }
 ],
 "metadata": {
  "kernelspec": {
   "display_name": "Python 3",
   "language": "python",
   "name": "python3"
  },
  "language_info": {
   "codemirror_mode": {
    "name": "ipython",
    "version": 3
   },
   "file_extension": ".py",
   "mimetype": "text/x-python",
   "name": "python",
   "nbconvert_exporter": "python",
   "pygments_lexer": "ipython3",
   "version": "3.7.6"
  }
 },
 "nbformat": 4,
 "nbformat_minor": 4
}
