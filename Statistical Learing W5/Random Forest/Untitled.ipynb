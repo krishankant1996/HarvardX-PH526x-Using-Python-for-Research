{
 "cells": [
  {
   "cell_type": "code",
   "execution_count": null,
   "metadata": {},
   "outputs": [],
   "source": [
    "\n",
    "# Random Forest= is a method for Regression and classification\n",
    "# Random forest method use sevral tree while making its prediction and collection of tree is called forest\n",
    "# The goal of a tree-based method is typically to split up the predictor or feature space such that data within each region are as similar as possible.\n",
    "# For classification, It returns the mode of the outcomes of the training data points in the predictor space where the new data point falls.\n",
    "# For regression, It returns the mean of the outcomes of the training data points in the predictor space where the new data point falls.\n",
    "#  randomness at the data level introduced when each tree gets a bootstrapped random sample of training data.\n",
    "# randomness at the predictor level introduced when each split only uses a subset of predictors.\n",
    "# In a classification setting each tree makes a prediction and the mode of these predictions is the prediction of the forest.\n",
    "# In a regression setting each tree makes a prediction and the mean of these predictions is the prediction of the forest.\n",
    "\n"
   ]
  }
 ],
 "metadata": {
  "kernelspec": {
   "display_name": "Python 3",
   "language": "python",
   "name": "python3"
  },
  "language_info": {
   "codemirror_mode": {
    "name": "ipython",
    "version": 3
   },
   "file_extension": ".py",
   "mimetype": "text/x-python",
   "name": "python",
   "nbconvert_exporter": "python",
   "pygments_lexer": "ipython3",
   "version": "3.7.6"
  }
 },
 "nbformat": 4,
 "nbformat_minor": 4
}
